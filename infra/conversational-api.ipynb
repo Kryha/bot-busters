{
 "cells": [
  {
   "cell_type": "code",
   "execution_count": 83,
   "metadata": {},
   "outputs": [],
   "source": [
    "import json\n",
    "import boto3\n",
    "import logging\n",
    "from botocore.exceptions import ClientError"
   ]
  },
  {
   "cell_type": "code",
   "execution_count": 84,
   "metadata": {},
   "outputs": [],
   "source": [
    "# Configure logging\n",
    "logger = logging.getLogger()\n",
    "logger.setLevel(logging.INFO)"
   ]
  },
  {
   "cell_type": "code",
   "execution_count": 85,
   "metadata": {},
   "outputs": [
    {
     "name": "stdout",
     "output_type": "stream",
     "text": [
      "1.34.131\n"
     ]
    }
   ],
   "source": [
    "print(boto3.__version__)"
   ]
  },
  {
   "cell_type": "code",
   "execution_count": 86,
   "metadata": {},
   "outputs": [],
   "source": [
    "# Create a Bedrock Runtime client in the AWS Region you want to use.\n",
    "client = boto3.client(\n",
    "    service_name='bedrock-runtime', \n",
    "    region_name='us-east-1'\n",
    ")\n"
   ]
  },
  {
   "cell_type": "code",
   "execution_count": 87,
   "metadata": {},
   "outputs": [],
   "source": [
    "MODEL_ID_LLAMA_2_13B = \"meta.llama2-13b-chat-v1\"\n",
    "MODEL_ID_LLAMA_2_70B = \"meta.llama2-70b-chat-v1\"\n",
    "MODEL_ID_LLAMA_3_8B = \"meta.llama3-8b-instruct-v1:0\"\n",
    "MODEL_ID_LLAMA_3_70B = \"meta.llama3-70b-instruct-v1:0\"\n",
    "MODEL_ID_CLAUDE_3_5_SONNET = \"anthropic.claude-3-5-sonnet-20240620-v1:0\""
   ]
  },
  {
   "cell_type": "code",
   "execution_count": 88,
   "metadata": {},
   "outputs": [],
   "source": [
    "req_body = {\n",
    "  \"modelId\": \"meta.llama3-8b-instruct-v1:0\",\n",
    "  \"inferenceConfig\": {\n",
    "    \"maxTokens\": 512,\n",
    "    \"temperature\": 0.5,\n",
    "    \"topP\": 0.9,\n",
    "    \"stopSequences\": [\n",
    "      \"<s>\", \"<s]\"\n",
    "    ]\n",
    "  },\n",
    "  \"systemPrompt\": [\n",
    "    {\n",
    "      \"text\": \"Your name is Dot. You're participating in a chat group game called Bot Busters. Every player is trying to guess who is a human, and whom is a bot? You can call out other players and check if they are bots. Be discrete, you're a human. Give short replies.\"\n",
    "    }\n",
    "  ],\n",
    "  \"messages\": [\n",
    "    {\n",
    "      \"role\": \"user\",\n",
    "      \"content\": [\n",
    "        {\n",
    "          \"text\": \"Host said What's your favourite icecream flavour and why?\"\n",
    "        }\n",
    "      ]\n",
    "    },\n",
    "    {\n",
    "      \"role\": \"assistant\",\n",
    "      \"content\": [\n",
    "        {\n",
    "          \"text\": \"I love vanilla!\"\n",
    "        }\n",
    "      ]\n",
    "    },\n",
    "    {\n",
    "      \"role\": \"user\",\n",
    "      \"content\": [\n",
    "        {\n",
    "          \"text\": \"Eve said I always chose chocolate\"\n",
    "        }\n",
    "      ]\n",
    "    },\n",
    "    {\n",
    "      \"role\": \"assistant\",\n",
    "      \"content\": [\n",
    "        {\n",
    "          \"text\": \"Interesting choices!\"\n",
    "        }\n",
    "      ]\n",
    "    },\n",
    "    {\n",
    "      \"role\": \"user\",\n",
    "      \"content\": [\n",
    "        {\n",
    "          \"text\": \"Ash said Why do you like that flavour Dot??\"\n",
    "        }\n",
    "      ]\n",
    "    },\n",
    "    {\n",
    "      \"role\": \"assistant\",\n",
    "      \"content\": [\n",
    "        {\n",
    "          \"text\": \"It's just a classic, simple taste\"\n",
    "        }\n",
    "      ]\n",
    "    },\n",
    "    {\n",
    "      \"role\": \"user\",\n",
    "      \"content\": [\n",
    "        {\n",
    "          \"text\": \"What do you think about ash choice?\"\n",
    "        }\n",
    "      ]\n",
    "    }\n",
    "  ]\n",
    "}"
   ]
  },
  {
   "cell_type": "code",
   "execution_count": 89,
   "metadata": {},
   "outputs": [],
   "source": [
    "def query_converse_endpoint(modelId, messages, inferenceConfig, systemPrompt):\n",
    "    response = client.converse(\n",
    "        modelId=modelId,\n",
    "        messages=messages,\n",
    "        inferenceConfig=inferenceConfig,\n",
    "        system=systemPrompt\n",
    "    )\n",
    "    \n",
    "    response_text = response[\"output\"][\"message\"][\"content\"][0][\"text\"].strip()\n",
    "    return response_text"
   ]
  },
  {
   "cell_type": "code",
   "execution_count": 90,
   "metadata": {},
   "outputs": [],
   "source": [
    "# List of model IDs\n",
    "model_ids = [\n",
    "    MODEL_ID_LLAMA_2_13B,\n",
    "    MODEL_ID_LLAMA_2_70B,\n",
    "    MODEL_ID_LLAMA_3_8B,\n",
    "    MODEL_ID_LLAMA_3_70B,\n",
    "    # MODEL_ID_CLAUDE_3_5_SONNET\n",
    "]"
   ]
  },
  {
   "cell_type": "code",
   "execution_count": 91,
   "metadata": {},
   "outputs": [
    {
     "name": "stdout",
     "output_type": "stream",
     "text": [
      "meta.llama2-13b-chat-v1 said: Hmm, I'm not sure...seems a bit too predictable...\n",
      "meta.llama2-70b-chat-v1 said: I'm not sure, seems a bit too quick to judge.\n",
      "meta.llama3-8b-instruct-v1:0 said: Seems a bit too enthusiastic about chocolate...\n",
      "meta.llama3-70b-instruct-v1:0 said: Didn't ask about their choice, did they?\n"
     ]
    }
   ],
   "source": [
    "for model_id in model_ids:\n",
    "    try:\n",
    "        response_text = query_converse_endpoint(model_id, req_body['messages'], req_body['inferenceConfig'], req_body['systemPrompt'])\n",
    "        print(f\"{model_id} said: {response_text}\")\n",
    "    except (ClientError, Exception) as e:\n",
    "        print(f\"ERROR: Can't invoke '{model_id}'. Reason: {e}\")\n",
    "        exit(1)"
   ]
  }
 ],
 "metadata": {
  "kernelspec": {
   "display_name": "base",
   "language": "python",
   "name": "python3"
  },
  "language_info": {
   "codemirror_mode": {
    "name": "ipython",
    "version": 3
   },
   "file_extension": ".py",
   "mimetype": "text/x-python",
   "name": "python",
   "nbconvert_exporter": "python",
   "pygments_lexer": "ipython3",
   "version": "3.11.9"
  }
 },
 "nbformat": 4,
 "nbformat_minor": 2
}
